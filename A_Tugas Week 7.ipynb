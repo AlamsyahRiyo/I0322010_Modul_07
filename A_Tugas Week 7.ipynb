{
 "cells": [
  {
   "cell_type": "code",
   "execution_count": null,
   "metadata": {},
   "outputs": [],
   "source": [
    "#Buatlah sebuah fungsi untuk membuat matrix berdasarkan input dari user\n",
    "\n",
    "def create_matrix(baris,kolom):\n",
    "    matrix = [....]\n",
    "\n",
    "    #Tulis kode kamu disini\n",
    "\n",
    "\n",
    "    return matrix\n",
    "\n",
    "\n",
    "baris = int(input('Masukkan Jumlah Baris:\\t'))\n",
    "kolom = int(input('Masukkan Jumlah Kolom:\\t'))\n",
    "\n",
    "create_matrix(baris,kolom)"
   ]
  },
  {
   "cell_type": "code",
   "execution_count": 1,
   "metadata": {},
   "outputs": [
    {
     "name": "stdout",
     "output_type": "stream",
     "text": [
      "[[5, 7], [8, 9]]\n"
     ]
    }
   ],
   "source": [
    "def contoh_matriks(baris, kolom):\n",
    "    matriks = []\n",
    "\n",
    "    for i in range(baris):\n",
    "        row = []\n",
    "        for j in range(kolom):\n",
    "            value = int(input(f'Masukkan nilai matriks[{i}][{j}]: '))\n",
    "            row.append(value)\n",
    "        matriks.append(row)\n",
    "\n",
    "    return matriks\n",
    "\n",
    "baris = int(input('Masukkan Jumlah Baris:\\t'))\n",
    "kolom = int(input('Masukkan Jumlah Kolom:\\t'))\n",
    "\n",
    "matriks = contoh_matriks(baris, kolom)\n",
    "print(matriks)"
   ]
  },
  {
   "cell_type": "code",
   "execution_count": null,
   "metadata": {},
   "outputs": [],
   "source": [
    "#Buatlah sebuah fungsi untuk menambah dua matrix berdasarkan input user\n",
    "\n",
    "def tambah_matrix(matrix1,matrix2):\n",
    "    tambah = []\n",
    "\n",
    "    #Tulis kode kamu disini\n",
    "\n",
    "\n",
    "    return tambah\n",
    "\n",
    "matrixA = []\n",
    "matrixB = []\n",
    "\n",
    "tambah_matrix(matrixA, matrixB)"
   ]
  },
  {
   "cell_type": "code",
   "execution_count": 2,
   "metadata": {},
   "outputs": [
    {
     "name": "stdout",
     "output_type": "stream",
     "text": [
      "Buat matriks A\n",
      "Buat Matrix B\n",
      "Hasil Penjumlahan:\n",
      "[15, 61]\n",
      "[85, 108]\n"
     ]
    }
   ],
   "source": [
    "def penambahan_matrix(matrix1, matrix2):\n",
    "    tambah = []\n",
    "\n",
    "    # Cek apakah matriks 1 dan matriks 2 memiliki jumlah baris dan kolom yang sama\n",
    "    if len(matrix1) == len(matrix2) and len(matrix1[0]) == len(matrix2[0]):\n",
    "        # Lakukan penjumlahan matrix pada setiap elemen\n",
    "        for i in range(len(matrix1)):\n",
    "            row = []\n",
    "            for j in range(len(matrix1[0])):\n",
    "                row.append(matrix1[i][j] + matrix2[i][j])\n",
    "            tambah.append(row)\n",
    "    else:\n",
    "        print('Ukuran matrix tidak sama')\n",
    "\n",
    "    return tambah\n",
    "\n",
    "# Menginput data dari pengguna\n",
    "baris = int(input('Masukkan Jumlah Baris:\\t'))\n",
    "kolom = int(input('Masukkan Jumlah Kolom:\\t'))\n",
    "\n",
    "# Membuat matriks A\n",
    "print('Buat matriks A')\n",
    "matriksA = []\n",
    "for i in range(baris):\n",
    "    row = []\n",
    "    for j in range(kolom):\n",
    "        value = int(input(f'Masukkan nilai matriksA[{i}][{j}]: '))\n",
    "        row.append(value)\n",
    "    matriksA.append(row)\n",
    "\n",
    "# Membuat matriks B\n",
    "print('Buat Matrix B')\n",
    "matriksB = []\n",
    "for i in range(baris):\n",
    "    row = []\n",
    "    for j in range(kolom):\n",
    "        value = int(input(f'Masukkan nilai matriksB[{i}][{j}]: '))\n",
    "        row.append(value)\n",
    "    matriksB.append(row)\n",
    "\n",
    "# Operasi penambahan matriks A dan matriks B\n",
    "hasil = penambahan_matrix(matriksA, matriksB)\n",
    "\n",
    "# Output hasil penjumlahan\n",
    "if hasil:\n",
    "    print('Hasil Penjumlahan:')\n",
    "    for row in hasil:\n",
    "        print(row)\n"
   ]
  },
  {
   "cell_type": "code",
   "execution_count": null,
   "metadata": {},
   "outputs": [],
   "source": [
    "#Buatlah fungsi untuk mengakalikan dua buah matrix berdasarkan input user\n",
    "\n",
    "def multiply_matrix(matrix1, matrix2):\n",
    "    result=[]\n",
    "\n",
    "    #Tulis kode kamu disini\n",
    "\n",
    "    return result\n",
    "\n",
    "\n",
    "matrix1 = [...]\n",
    "matrix2 = [...]\n",
    "\n",
    "multiply_matrix(matrix1, matrix2)"
   ]
  },
  {
   "cell_type": "code",
   "execution_count": 3,
   "metadata": {},
   "outputs": [
    {
     "name": "stdout",
     "output_type": "stream",
     "text": [
      "Buat matriks 1\n",
      "Buat Matriks 2\n",
      "Berikut hasil operasi perkalian:\n",
      "[24, 28, 32]\n"
     ]
    }
   ],
   "source": [
    "def perkalian_matriks(matrix1, matrix2):\n",
    "    result = []\n",
    "\n",
    "    # Cek apakah jumlah kolom matriks 1 sama dengan jumlah baris matriks 2\n",
    "    if len(matrix1[0]) == len(matrix2):\n",
    "        # Lakukan perkalian matriks\n",
    "        for i in range(len(matrix1)):\n",
    "            row = []\n",
    "            for j in range(len(matrix2[0])):\n",
    "                total = 0\n",
    "                for k in range(len(matrix2)):\n",
    "                    total += matrix1[i][k] * matrix2[k][j]\n",
    "                row.append(total)\n",
    "            result.append(row)\n",
    "    else:\n",
    "        print('Jumlah kolom matrix1 tidak sama dengan jumlah baris matrix2')\n",
    "\n",
    "    return result\n",
    "\n",
    "# Masukkan input pengguna\n",
    "baris1 = int(input('Masukkan Jumlah Baris Matrix 1:\\t'))\n",
    "kolom1 = int(input('Masukkan Jumlah Kolom Matrix 1:\\t'))\n",
    "baris2 = int(input('Masukkan Jumlah Baris Matrix 2:\\t'))\n",
    "kolom2 = int(input('Masukkan Jumlah Kolom Matrix 2:\\t'))\n",
    "\n",
    "# Membuat matriks\n",
    "print('Buat matriks 1')\n",
    "matrix1 = []\n",
    "for i in range(baris1):\n",
    "    row = []\n",
    "    for j in range(kolom1):\n",
    "        value = int(input(f'Masukkan nilai matriks1[{i}][{j}]: '))\n",
    "        row.append(value)\n",
    "    matrix1.append(row)\n",
    "\n",
    "# Membuat matriks 2\n",
    "print('Buat Matriks 2')\n",
    "matrix2 = []\n",
    "for i in range(baris2):\n",
    "    row = []\n",
    "    for j in range(kolom2):\n",
    "        value = int(input(f'Masukkan nilai matriks2[{i}][{j}]: '))\n",
    "        row.append(value)\n",
    "    matrix2.append(row)\n",
    "\n",
    "# Mengalikan matriks 1 dan matriks 2\n",
    "hasil = perkalian_matriks(matrix1, matrix2)\n",
    "\n",
    "# Output hasil perkalian\n",
    "if hasil:\n",
    "    print('Berikut hasil operasi perkalian:')\n",
    "    for row in hasil:\n",
    "        print(row)\n"
   ]
  }
 ],
 "metadata": {
  "kernelspec": {
   "display_name": "Python 3",
   "language": "python",
   "name": "python3"
  },
  "language_info": {
   "codemirror_mode": {
    "name": "ipython",
    "version": 3
   },
   "file_extension": ".py",
   "mimetype": "text/x-python",
   "name": "python",
   "nbconvert_exporter": "python",
   "pygments_lexer": "ipython3",
   "version": "3.10.11"
  },
  "orig_nbformat": 4
 },
 "nbformat": 4,
 "nbformat_minor": 2
}
